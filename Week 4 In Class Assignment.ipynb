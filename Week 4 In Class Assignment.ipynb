{
 "cells": [
  {
   "cell_type": "markdown",
   "id": "9731b0aa",
   "metadata": {},
   "source": [
    "# Week 4 In-Class Assignment"
   ]
  },
  {
   "cell_type": "markdown",
   "id": "2808b887",
   "metadata": {},
   "source": [
    "1) Import the Belize_Airbnb_listings csv. Create a new dataframe that takes the original dataset and groups the data by neighborhood and finds the average price, total number of reviews, and max availability_365. In short, you're looking for the average price, total number of reviews, and max availability per neighborhood."
   ]
  },
  {
   "cell_type": "code",
   "execution_count": 1,
   "id": "20ef9ca3",
   "metadata": {},
   "outputs": [],
   "source": [
    "#importing libraries, setting dependencies\n",
    "\n",
    "import math\n",
    "import pandas as pd\n",
    "import numpy as np\n",
    "\n",
    "#creating dataframe\n",
    "\n",
    "belize_path = \"belize_airbnb_listings.csv\"\n",
    "belize_df = pd.read_csv(belize_path)\n"
   ]
  },
  {
   "cell_type": "code",
   "execution_count": 2,
   "id": "99fab012",
   "metadata": {},
   "outputs": [
    {
     "data": {
      "text/html": [
       "<div>\n",
       "<style scoped>\n",
       "    .dataframe tbody tr th:only-of-type {\n",
       "        vertical-align: middle;\n",
       "    }\n",
       "\n",
       "    .dataframe tbody tr th {\n",
       "        vertical-align: top;\n",
       "    }\n",
       "\n",
       "    .dataframe thead th {\n",
       "        text-align: right;\n",
       "    }\n",
       "</style>\n",
       "<table border=\"1\" class=\"dataframe\">\n",
       "  <thead>\n",
       "    <tr style=\"text-align: right;\">\n",
       "      <th></th>\n",
       "      <th>id</th>\n",
       "      <th>name</th>\n",
       "      <th>host_id</th>\n",
       "      <th>host_name</th>\n",
       "      <th>neighbourhood_group</th>\n",
       "      <th>neighbourhood</th>\n",
       "      <th>latitude</th>\n",
       "      <th>longitude</th>\n",
       "      <th>room_type</th>\n",
       "      <th>price</th>\n",
       "      <th>minimum_nights</th>\n",
       "      <th>number_of_reviews</th>\n",
       "      <th>last_review</th>\n",
       "      <th>reviews_per_month</th>\n",
       "      <th>calculated_host_listings_count</th>\n",
       "      <th>availability_365</th>\n",
       "    </tr>\n",
       "  </thead>\n",
       "  <tbody>\n",
       "    <tr>\n",
       "      <th>0</th>\n",
       "      <td>36666</td>\n",
       "      <td>Mo's Cozy Casa w/ veranda &amp; access to dock</td>\n",
       "      <td>157752</td>\n",
       "      <td>Monique</td>\n",
       "      <td>Belize</td>\n",
       "      <td>Belize Islands</td>\n",
       "      <td>17.74786</td>\n",
       "      <td>-88.02398</td>\n",
       "      <td>Entire home/apt</td>\n",
       "      <td>141</td>\n",
       "      <td>3</td>\n",
       "      <td>250</td>\n",
       "      <td>2/23/2021</td>\n",
       "      <td>2.00</td>\n",
       "      <td>5</td>\n",
       "      <td>225</td>\n",
       "    </tr>\n",
       "    <tr>\n",
       "      <th>1</th>\n",
       "      <td>36690</td>\n",
       "      <td>Mo's Cozy Cabana w/ comfy veranda &amp; access to ...</td>\n",
       "      <td>157752</td>\n",
       "      <td>Monique</td>\n",
       "      <td>Belize</td>\n",
       "      <td>Belize Islands</td>\n",
       "      <td>17.74832</td>\n",
       "      <td>-88.02474</td>\n",
       "      <td>Entire home/apt</td>\n",
       "      <td>71</td>\n",
       "      <td>3</td>\n",
       "      <td>316</td>\n",
       "      <td>2/19/2021</td>\n",
       "      <td>2.46</td>\n",
       "      <td>5</td>\n",
       "      <td>164</td>\n",
       "    </tr>\n",
       "  </tbody>\n",
       "</table>\n",
       "</div>"
      ],
      "text/plain": [
       "      id                                               name  host_id  \\\n",
       "0  36666         Mo's Cozy Casa w/ veranda & access to dock   157752   \n",
       "1  36690  Mo's Cozy Cabana w/ comfy veranda & access to ...   157752   \n",
       "\n",
       "  host_name neighbourhood_group   neighbourhood  latitude  longitude  \\\n",
       "0   Monique              Belize  Belize Islands  17.74786  -88.02398   \n",
       "1   Monique              Belize  Belize Islands  17.74832  -88.02474   \n",
       "\n",
       "         room_type  price  minimum_nights  number_of_reviews last_review  \\\n",
       "0  Entire home/apt    141               3                250   2/23/2021   \n",
       "1  Entire home/apt     71               3                316   2/19/2021   \n",
       "\n",
       "   reviews_per_month  calculated_host_listings_count  availability_365  \n",
       "0               2.00                               5               225  \n",
       "1               2.46                               5               164  "
      ]
     },
     "execution_count": 2,
     "metadata": {},
     "output_type": "execute_result"
    }
   ],
   "source": [
    "#checking the dataframe\n",
    "\n",
    "belize_df.head(2)"
   ]
  },
  {
   "cell_type": "code",
   "execution_count": 3,
   "id": "ab0df431",
   "metadata": {},
   "outputs": [
    {
     "data": {
      "text/plain": [
       "neighbourhood\n",
       "Belize Islands           399.442824\n",
       "Belize Mainland          288.273063\n",
       "Cayo                     205.847525\n",
       "Corozal                  156.553846\n",
       "Orange Walk              122.035714\n",
       "Stann Creek Islands     1136.166667\n",
       "Stann Creek Mainland     456.994690\n",
       "Toledo Mainland          222.978723\n",
       "Name: price, dtype: float64"
      ]
     },
     "execution_count": 3,
     "metadata": {},
     "output_type": "execute_result"
    }
   ],
   "source": [
    "#grouping by neighborhood\n",
    "\n",
    "mean_price = belize_df.groupby('neighbourhood')['price'].mean()\n",
    "mean_price"
   ]
  },
  {
   "cell_type": "code",
   "execution_count": 4,
   "id": "7723166e",
   "metadata": {
    "scrolled": true
   },
   "outputs": [
    {
     "data": {
      "text/plain": [
       "neighbourhood\n",
       "Belize Islands          22995\n",
       "Belize Mainland          4105\n",
       "Cayo                     7356\n",
       "Corozal                   492\n",
       "Orange Walk               415\n",
       "Stann Creek Islands        69\n",
       "Stann Creek Mainland     4786\n",
       "Toledo Mainland           194\n",
       "Name: number_of_reviews, dtype: int64"
      ]
     },
     "execution_count": 4,
     "metadata": {},
     "output_type": "execute_result"
    }
   ],
   "source": [
    "total_reviews = belize_df.groupby('neighbourhood')['number_of_reviews'].sum()\n",
    "total_reviews"
   ]
  },
  {
   "cell_type": "code",
   "execution_count": 5,
   "id": "63008f76",
   "metadata": {},
   "outputs": [
    {
     "data": {
      "text/plain": [
       "neighbourhood\n",
       "Belize Islands          365\n",
       "Belize Mainland         365\n",
       "Cayo                    365\n",
       "Corozal                 365\n",
       "Orange Walk             365\n",
       "Stann Creek Islands     365\n",
       "Stann Creek Mainland    365\n",
       "Toledo Mainland         365\n",
       "Name: availability_365, dtype: int64"
      ]
     },
     "execution_count": 5,
     "metadata": {},
     "output_type": "execute_result"
    }
   ],
   "source": [
    "max_availability = belize_df.groupby('neighbourhood')['availability_365'].max()\n",
    "max_availability"
   ]
  },
  {
   "cell_type": "markdown",
   "id": "c99601f5",
   "metadata": {},
   "source": [
    "^^ No surprises here? Perhaps I misunderstood the question. "
   ]
  },
  {
   "cell_type": "markdown",
   "id": "2d67509f",
   "metadata": {},
   "source": [
    "2) Take the following list and create a new list from the square of each value.\n",
    "og_list=[2,4,6,8,10,12,14]"
   ]
  },
  {
   "cell_type": "code",
   "execution_count": 6,
   "id": "a67f1a7f",
   "metadata": {},
   "outputs": [
    {
     "name": "stdout",
     "output_type": "stream",
     "text": [
      "[4, 16, 36, 64, 100, 144, 196]\n"
     ]
    }
   ],
   "source": [
    "og_list=[2,4,6,8,10,12,14]\n",
    "\n",
    "squares = [i**2 for i in og_list]\n",
    "\n",
    "print(squares)"
   ]
  },
  {
   "cell_type": "markdown",
   "id": "c557ea3a",
   "metadata": {},
   "source": [
    "3) Take the same list from the previous question and create a new list but where each value is 2/3 of the original values."
   ]
  },
  {
   "cell_type": "code",
   "execution_count": 7,
   "id": "7411a88a",
   "metadata": {},
   "outputs": [
    {
     "name": "stdout",
     "output_type": "stream",
     "text": [
      "[1.3333333333333333, 2.6666666666666665, 4.0, 5.333333333333333, 6.666666666666667, 8.0, 9.333333333333334]\n"
     ]
    }
   ],
   "source": [
    "#from fractions import Fraction\n",
    "#I tried to get fancy here ^^ but it got messy instead. \n",
    "\n",
    "twothirds = [(i*2/3) for i in og_list]\n",
    "\n",
    "print(twothirds)"
   ]
  },
  {
   "cell_type": "markdown",
   "id": "dee67bf5",
   "metadata": {},
   "source": [
    "4) Write a list comprehension or function to lowercase all the keys in the below dictionary. The data represents how many pounds of each fruit a canning company is ordering. \n",
    "\n",
    "Why did you choose the mechanism you did to lowercase the keys? \n",
    "\n",
    "dict = {\"Apples\": 1500, \"Cranberries\": 2000, \"Pears\": 2500, \"Cherries\": 1600, \"Plums\": 2400, \"Peaches\": 13600, \"Oranges\": 7}"
   ]
  },
  {
   "cell_type": "code",
   "execution_count": 8,
   "id": "679ed10e",
   "metadata": {},
   "outputs": [],
   "source": [
    "fruit_dict = {\"Apples\": 1500, \"Cranberries\": 2000, \"Pears\": 2500, \"Cherries\": 1600, \"Plums\": 2400, \"Peaches\": 13600, \"Oranges\": 7}\n"
   ]
  },
  {
   "cell_type": "code",
   "execution_count": 9,
   "id": "34305ba5",
   "metadata": {},
   "outputs": [
    {
     "data": {
      "text/plain": [
       "{'apples': 1500,\n",
       " 'cranberries': 2000,\n",
       " 'pears': 2500,\n",
       " 'cherries': 1600,\n",
       " 'plums': 2400,\n",
       " 'peaches': 13600,\n",
       " 'oranges': 7}"
      ]
     },
     "execution_count": 9,
     "metadata": {},
     "output_type": "execute_result"
    }
   ],
   "source": [
    "{k.lower(): v for k, v in fruit_dict.items()}"
   ]
  },
  {
   "cell_type": "markdown",
   "id": "d81cf5e2",
   "metadata": {},
   "source": [
    "Why did I choose this? Because I found it in my Google search : \"Dictionary to lowercase in Python list comprehension\". I already knew that the .lower() method would change the case; it was the matter of finding the right syntax for creating a new dictionry. from an exisiting one. "
   ]
  }
 ],
 "metadata": {
  "kernelspec": {
   "display_name": "Python 3",
   "language": "python",
   "name": "python3"
  },
  "language_info": {
   "codemirror_mode": {
    "name": "ipython",
    "version": 3
   },
   "file_extension": ".py",
   "mimetype": "text/x-python",
   "name": "python",
   "nbconvert_exporter": "python",
   "pygments_lexer": "ipython3",
   "version": "3.8.5"
  }
 },
 "nbformat": 4,
 "nbformat_minor": 5
}
