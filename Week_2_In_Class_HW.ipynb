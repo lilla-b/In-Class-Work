{
 "cells": [
  {
   "cell_type": "code",
   "execution_count": 9,
   "id": "3e8da3fa",
   "metadata": {},
   "outputs": [],
   "source": [
    "#define the function\n",
    "def IsWeird(n):\n",
    "\n",
    "    #check if number is within bounds\n",
    "    if n < 1 or n > 100:\n",
    "        print('Enter an integer between 1 and 100')\n",
    "\n",
    "    #check if odd\n",
    "    else: \n",
    "        if n % 2 != 0:\n",
    "            print('Weird')\n",
    "    \n",
    "    #conditions on evens \n",
    "    \n",
    "        elif 2 <=n <=5:\n",
    "            print('Not Weird')\n",
    "        elif 6 <= n <= 20:\n",
    "            print('Weird')\n",
    "        elif n > 20:\n",
    "            print('Not Weird')"
   ]
  },
  {
   "cell_type": "code",
   "execution_count": 12,
   "id": "608910a0",
   "metadata": {},
   "outputs": [
    {
     "name": "stdout",
     "output_type": "stream",
     "text": [
      "Enter an integer between 1 and 100\n"
     ]
    }
   ],
   "source": [
    "IsWeird(0)"
   ]
  },
  {
   "cell_type": "code",
   "execution_count": 18,
   "id": "a422ba1d",
   "metadata": {},
   "outputs": [
    {
     "name": "stdout",
     "output_type": "stream",
     "text": [
      "Enter an integer between 1 and 100\n"
     ]
    }
   ],
   "source": [
    "IsWeird(101)"
   ]
  },
  {
   "cell_type": "code",
   "execution_count": 13,
   "id": "a63d6436",
   "metadata": {
    "scrolled": true
   },
   "outputs": [
    {
     "name": "stdout",
     "output_type": "stream",
     "text": [
      "Weird\n"
     ]
    }
   ],
   "source": [
    "IsWeird(3)"
   ]
  },
  {
   "cell_type": "code",
   "execution_count": 14,
   "id": "dd63a645",
   "metadata": {},
   "outputs": [
    {
     "name": "stdout",
     "output_type": "stream",
     "text": [
      "Not Weird\n"
     ]
    }
   ],
   "source": [
    "IsWeird(4)"
   ]
  },
  {
   "cell_type": "code",
   "execution_count": 15,
   "id": "c0b93254",
   "metadata": {},
   "outputs": [
    {
     "name": "stdout",
     "output_type": "stream",
     "text": [
      "Weird\n"
     ]
    }
   ],
   "source": [
    "IsWeird(10)"
   ]
  },
  {
   "cell_type": "code",
   "execution_count": 16,
   "id": "611424f2",
   "metadata": {},
   "outputs": [
    {
     "name": "stdout",
     "output_type": "stream",
     "text": [
      "Not Weird\n"
     ]
    }
   ],
   "source": [
    "IsWeird(24)"
   ]
  }
 ],
 "metadata": {
  "kernelspec": {
   "display_name": "Python 3",
   "language": "python",
   "name": "python3"
  },
  "language_info": {
   "codemirror_mode": {
    "name": "ipython",
    "version": 3
   },
   "file_extension": ".py",
   "mimetype": "text/x-python",
   "name": "python",
   "nbconvert_exporter": "python",
   "pygments_lexer": "ipython3",
   "version": "3.8.5"
  }
 },
 "nbformat": 4,
 "nbformat_minor": 5
}
